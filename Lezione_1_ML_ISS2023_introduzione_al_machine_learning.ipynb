{
  "nbformat": 4,
  "nbformat_minor": 0,
  "metadata": {
    "colab": {
      "provenance": [],
      "authorship_tag": "ABX9TyNQK414GTL1s2HUmb/ivr6c",
      "include_colab_link": true
    },
    "kernelspec": {
      "name": "python3",
      "display_name": "Python 3"
    },
    "language_info": {
      "name": "python"
    }
  },
  "cells": [
    {
      "cell_type": "markdown",
      "metadata": {
        "id": "view-in-github",
        "colab_type": "text"
      },
      "source": [
        "<a href=\"https://colab.research.google.com/github/pumazzo/ML-ISS2023/blob/main/Lezione_1_ML_ISS2023_introduzione_al_machine_learning.ipynb\" target=\"_parent\"><img src=\"https://colab.research.google.com/assets/colab-badge.svg\" alt=\"Open In Colab\"/></a>"
      ]
    },
    {
      "cell_type": "markdown",
      "source": [
        "## Introduzione al Deep Learning per le Scienze della Salute\n",
        "## Lezione 1 ***Introduzione al machine learning***\n",
        "\n",
        "In questo notebook vedremo:\n",
        "- Come si importano i moduli in python\n",
        "- Elementi di sintassi\n",
        "  - Liste, dizionari, array, cicli, if statments\n",
        "  - Salvare e caricare un file\n",
        "  - Generazione numeri casuali con numpy\n",
        "  - Plot di grafici \n",
        "\n",
        "\n",
        "Lo scopo di questo notebook sarà di generare con numpy un dataset da usare per l'esercizio di classificazione. Approfittiamo per ricordare a tutti qualche elemento di Python. Non saremo mai troppo rigorosi."
      ],
      "metadata": {
        "id": "nldUhLcU7dvv"
      }
    },
    {
      "cell_type": "code",
      "source": [
        "# Importiamo le librerie\n",
        "import numpy as np \n",
        "import matplotlib.pyplot as plt\n",
        "\n"
      ],
      "metadata": {
        "id": "7I8qYhkj7dkJ"
      },
      "execution_count": null,
      "outputs": []
    },
    {
      "cell_type": "code",
      "execution_count": null,
      "metadata": {
        "colab": {
          "base_uri": "https://localhost:8080/"
        },
        "id": "gRV-_B427NCg",
        "outputId": "41751097-6b78-42c6-b8dd-3f6a5685fe0a"
      },
      "outputs": [
        {
          "output_type": "stream",
          "name": "stdout",
          "text": [
            "variable type :  <class 'int'>\n",
            "variable type :  <class 'float'>\n",
            "variable type :  <class 'str'>\n"
          ]
        }
      ],
      "source": [
        "# Richiamo veloce di sintassi\n",
        "\n",
        "myint = 1 # questa è una variabile. In python non bisogna dichiara il tipo di variabile esplicitamente. \n",
        "print(\"variable type : \", type(myint))\n",
        "myfloat = 1.\n",
        "print(\"variable type : \", type(myfloat))\n",
        "mystring = \"guido\"\n",
        "print(\"variable type : \", type(mystring))"
      ]
    },
    {
      "cell_type": "code",
      "source": [
        "#un insieme ordinato di elementi è una lista. Gli elementi di una lista possono anche essere di tipo diverso.\n",
        "# Una lista si dichiara con le parentesi quadre\n",
        "# Le variabili che abbiamo dichiarato possono essere elementi di una lista\n",
        "\n",
        "mylist = [42, 10. , mystring]"
      ],
      "metadata": {
        "id": "ZrE0L_gs_Rtk"
      },
      "execution_count": null,
      "outputs": []
    },
    {
      "cell_type": "code",
      "source": [
        "#Possiamo accedere agli elementi di una stringa usando un indice\n",
        "#Gli indici devono essere numeri interi\n",
        "# Il primo elemento di una lista corrisponde all' indice 0\n",
        "# \n",
        "\n",
        "print(\"il primo elemento della lista è :\", mylist[0])\n",
        "\n",
        "# possiamo usare una variabile come indice di una lista \n",
        "\n",
        "print(\"L'elemento della lista che corrisponte all'indice contenulo nella variabile myint = {}\\n è questo : mylist[myint] = {}\".format(myint,mylist[myint]))"
      ],
      "metadata": {
        "colab": {
          "base_uri": "https://localhost:8080/"
        },
        "id": "XvZClpqDA95y",
        "outputId": "a37a77a4-bf52-4f34-d235-ae3990c8a635"
      },
      "execution_count": null,
      "outputs": [
        {
          "output_type": "stream",
          "name": "stdout",
          "text": [
            "il primo elemento della lista è : 42\n",
            "L'elemento della lista che corrisponte all'indice contenulo nella variabile myint = 1\n",
            " è questo : mylist[myint] = 10.0\n"
          ]
        }
      ]
    },
    {
      "cell_type": "code",
      "source": [
        "# Non possiamo usare un float come indice. La sintassi di try/except ignoratela per adesso\n",
        "\n",
        "try:\n",
        "  print(mylist[myfloat])# questo comando darà un errore e si eseguirà il contenuto di except!\n",
        "except:\n",
        "  print(\"An exception occurred. Stiamo usando un float come indice\") "
      ],
      "metadata": {
        "colab": {
          "base_uri": "https://localhost:8080/"
        },
        "id": "u-lh-xHxBb93",
        "outputId": "f11cce52-f1c9-4e04-bf22-86732b8fff7e"
      },
      "execution_count": null,
      "outputs": [
        {
          "output_type": "stream",
          "name": "stdout",
          "text": [
            "An exception occurred. Stiamo usando un float come indice\n"
          ]
        }
      ]
    },
    {
      "cell_type": "code",
      "source": [
        "# un esempio di operatori. Il \"+\"\n",
        "\n",
        "somma = myfloat + myint\n",
        "print(\"la somma di un intero e di un float è un float : \",somma)"
      ],
      "metadata": {
        "colab": {
          "base_uri": "https://localhost:8080/"
        },
        "id": "YZZk4rnxCfpw",
        "outputId": "34c0cb70-b25d-4241-cb99-902b6c02a4a0"
      },
      "execution_count": null,
      "outputs": [
        {
          "output_type": "stream",
          "name": "stdout",
          "text": [
            "la somma di un intero e di un float è un float :  2.0\n"
          ]
        }
      ]
    },
    {
      "cell_type": "code",
      "source": [
        "# il + applicato a una lista è una concatenazione\n",
        "print(\"la mia lista concatenata \", mylist + [\"a\", \"b\",\" c\"])"
      ],
      "metadata": {
        "colab": {
          "base_uri": "https://localhost:8080/"
        },
        "id": "0tEAZ-e3Dhg-",
        "outputId": "72153ff8-b374-4e5e-dc2b-1131ad9112ad"
      },
      "execution_count": null,
      "outputs": [
        {
          "output_type": "stream",
          "name": "stdout",
          "text": [
            "la mia lista concatenata  [42, 10.0, 'guido', 'a', 'b', ' c']\n"
          ]
        }
      ]
    },
    {
      "cell_type": "markdown",
      "source": [
        "### Adesso guardiamo la parte interesssante. \n",
        "- Creiamo un array con numpy\n",
        "- Operazione somma con scalare\n",
        "- Operazioni tra array"
      ],
      "metadata": {
        "id": "PiCe6eMgEO1l"
      }
    },
    {
      "cell_type": "code",
      "source": [
        "#  Creiamo un array con numpy\n",
        "# un array può essere creato a partire da una lista\n",
        "myarray = np.array([1,2,3,4])\n",
        "print(\"mio array = {}, type : {}\".format(myarray,type(myarray)))"
      ],
      "metadata": {
        "id": "JXAx4M-CD13o",
        "colab": {
          "base_uri": "https://localhost:8080/"
        },
        "outputId": "d72d29ae-3dcc-4ae2-a110-7371fe21e0d2"
      },
      "execution_count": 17,
      "outputs": [
        {
          "output_type": "stream",
          "name": "stdout",
          "text": [
            "mio array = [1 2 3 4], type : <class 'numpy.ndarray'>\n"
          ]
        }
      ]
    },
    {
      "cell_type": "code",
      "source": [
        "#possiamo vedere la taglia di un array usando il comando shape\n",
        "print(\"array shape : \",myarray.shape)\n",
        "# ci dice che ci sono 4 elementi nell'array\n",
        "#Si accede agli array come alle liste\n",
        "print(\"secondo elemento dell'array : \",myarray[1])\n",
        "# si può modificare il contenuto degli array\n",
        "myarray[-1]=0#-1 significa ultimo elemento\n",
        "print(\"mio array modificato = {}, type : {}\".format(myarray,type(myarray)))"
      ],
      "metadata": {
        "colab": {
          "base_uri": "https://localhost:8080/"
        },
        "id": "VmbAKkQMHn-P",
        "outputId": "00589ccd-f5fa-471f-f3b4-820b9473a1b3"
      },
      "execution_count": 20,
      "outputs": [
        {
          "output_type": "stream",
          "name": "stdout",
          "text": [
            "array shape :  (4,)\n",
            "secondo elemento dell'array :  2\n",
            "mio array modificato = [1 2 3 0], type : <class 'numpy.ndarray'>\n"
          ]
        }
      ]
    },
    {
      "cell_type": "code",
      "source": [
        "# possiamo definire array multidimensionali (matrici)\n",
        "mymat = np.ones((4,4)) # 4 righe e 4 colonne\n",
        "print(\"mymat \\n\", mymat)"
      ],
      "metadata": {
        "colab": {
          "base_uri": "https://localhost:8080/"
        },
        "id": "ea3QfuBKH4CG",
        "outputId": "16d2fb3b-aaf0-4675-b724-80c27a2ae591"
      },
      "execution_count": 28,
      "outputs": [
        {
          "output_type": "stream",
          "name": "stdout",
          "text": [
            "mymat \n",
            " [[1. 1. 1. 1.]\n",
            " [1. 1. 1. 1.]\n",
            " [1. 1. 1. 1.]\n",
            " [1. 1. 1. 1.]]\n"
          ]
        }
      ]
    },
    {
      "cell_type": "code",
      "source": [
        "# sommiamo un numero a tutti gli elementi dell'array\n",
        "sumWithScalar = myarray + 1\n",
        "print(sumWithScalar)"
      ],
      "metadata": {
        "colab": {
          "base_uri": "https://localhost:8080/"
        },
        "id": "584Gh4jmIxl_",
        "outputId": "d908790d-33f1-48da-cceb-293a4c26529d"
      },
      "execution_count": 29,
      "outputs": [
        {
          "output_type": "stream",
          "name": "stdout",
          "text": [
            "[2 3 4 1]\n"
          ]
        }
      ]
    },
    {
      "cell_type": "code",
      "source": [
        "# moltiplichiamo un numero a tutti gli elementi dell'array\n",
        "prodWithScalar = myarray * 2\n",
        "print(prodWithScalar)"
      ],
      "metadata": {
        "colab": {
          "base_uri": "https://localhost:8080/"
        },
        "id": "DNUAjLIXJVxq",
        "outputId": "bbb741cc-dde5-4090-88ae-2f0505c9ee6b"
      },
      "execution_count": 30,
      "outputs": [
        {
          "output_type": "stream",
          "name": "stdout",
          "text": [
            "[1 2 3 0]\n"
          ]
        }
      ]
    },
    {
      "cell_type": "code",
      "source": [
        "#prodotto matrice vettore\n",
        "print(mymat@myarray)"
      ],
      "metadata": {
        "colab": {
          "base_uri": "https://localhost:8080/"
        },
        "id": "PIe5sIT_JgTx",
        "outputId": "ff0abe16-b8ae-476c-9cf1-b146d3e6fb8d"
      },
      "execution_count": 31,
      "outputs": [
        {
          "output_type": "execute_result",
          "data": {
            "text/plain": [
              "array([6., 6., 6., 6.])"
            ]
          },
          "metadata": {},
          "execution_count": 31
        }
      ]
    },
    {
      "cell_type": "code",
      "source": [
        "# prodotto elemento con elemento lungo le dimenzioni uguali\n",
        "mymat*myarray"
      ],
      "metadata": {
        "colab": {
          "base_uri": "https://localhost:8080/"
        },
        "id": "-TbF1paOJvWH",
        "outputId": "7b448eb3-a294-4729-fa8a-6e6f36fbf9f8"
      },
      "execution_count": 32,
      "outputs": [
        {
          "output_type": "execute_result",
          "data": {
            "text/plain": [
              "array([[1., 2., 3., 0.],\n",
              "       [1., 2., 3., 0.],\n",
              "       [1., 2., 3., 0.],\n",
              "       [1., 2., 3., 0.]])"
            ]
          },
          "metadata": {},
          "execution_count": 32
        }
      ]
    },
    {
      "cell_type": "code",
      "source": [
        "#concatenazione -> aggiungo un array a una matrice come riga o colonna\n",
        "# expand dims crea una finta dim nell'array per permettere il corretto broadcasting\n",
        "np.concatenate([mymat,np.expand_dims(myarray,0)],axis=0)#sotto"
      ],
      "metadata": {
        "colab": {
          "base_uri": "https://localhost:8080/"
        },
        "id": "TP1MTc2QJ6AL",
        "outputId": "31649a94-701a-4198-bc87-e7311ee39202"
      },
      "execution_count": 41,
      "outputs": [
        {
          "output_type": "execute_result",
          "data": {
            "text/plain": [
              "array([[1., 1., 1., 1.],\n",
              "       [1., 1., 1., 1.],\n",
              "       [1., 1., 1., 1.],\n",
              "       [1., 1., 1., 1.],\n",
              "       [1., 2., 3., 0.]])"
            ]
          },
          "metadata": {},
          "execution_count": 41
        }
      ]
    },
    {
      "cell_type": "code",
      "source": [
        "np.concatenate([mymat,np.expand_dims(myarray,1)],axis=1)#a destra"
      ],
      "metadata": {
        "colab": {
          "base_uri": "https://localhost:8080/"
        },
        "id": "Jj14DUwlKuwl",
        "outputId": "be8fb636-861e-439d-d601-47282c14b637"
      },
      "execution_count": 43,
      "outputs": [
        {
          "output_type": "execute_result",
          "data": {
            "text/plain": [
              "array([[1., 1., 1., 1., 1.],\n",
              "       [1., 1., 1., 1., 2.],\n",
              "       [1., 1., 1., 1., 3.],\n",
              "       [1., 1., 1., 1., 0.]])"
            ]
          },
          "metadata": {},
          "execution_count": 43
        }
      ]
    },
    {
      "cell_type": "markdown",
      "source": [
        "### Generiamo una matrice di numeri casuali e associamo una label\n",
        "- generiamo due gaussiane in dim = 2\n",
        "- creiamo il vettore di label\n",
        "- facciamo un plot\n",
        "- salviamo il dataset come dizionario"
      ],
      "metadata": {
        "id": "pfot3IT3Ljgh"
      }
    },
    {
      "cell_type": "code",
      "source": [
        "d1 = np.array([3,2]) + np.random.randn(100, 2)\n",
        "d2 = np.array([1,-1]) + np.random.randn(100, 2)"
      ],
      "metadata": {
        "id": "LQLTI1LWLSY_"
      },
      "execution_count": 52,
      "outputs": []
    },
    {
      "cell_type": "code",
      "source": [
        "f,ax = plt.subplots(1)\n",
        "ax.scatter(d1[:,0],d1[:,1],s=5,alpha=0.3,color=\"r\",label=\"d1\")\n",
        "ax.scatter(d2[:,0],d2[:,1],s=5,alpha=0.3,color=\"b\",label=\"d2\")\n",
        "ax.set_xlabel(\"x\")\n",
        "ax.set_ylabel(\"y\")\n",
        "plt.legend()"
      ],
      "metadata": {
        "colab": {
          "base_uri": "https://localhost:8080/",
          "height": 466
        },
        "id": "oEdz8nBfMyDh",
        "outputId": "5739f332-a6ad-4eca-d4c0-d971714a53e2"
      },
      "execution_count": 54,
      "outputs": [
        {
          "output_type": "execute_result",
          "data": {
            "text/plain": [
              "<matplotlib.legend.Legend at 0x7fd0ccf30e50>"
            ]
          },
          "metadata": {},
          "execution_count": 54
        },
        {
          "output_type": "display_data",
          "data": {
            "text/plain": [
              "<Figure size 640x480 with 1 Axes>"
            ],
            "image/png": "[encoded data removed]"
          },
          "metadata": {}
        }
      ]
    },
    {
      "cell_type": "code",
      "source": [
        "data= np.concatenate([d1,d2],axis=0)\n",
        "labels = np.concatenate([np.zeros(100),np.ones(100)],axis=0)"
      ],
      "metadata": {
        "id": "-Z5i-NBbOMsU"
      },
      "execution_count": 55,
      "outputs": []
    },
    {
      "cell_type": "code",
      "source": [
        "np.savez(\"nydata.npz\",data=data,labels=labels)"
      ],
      "metadata": {
        "id": "-s0QID9nOo21"
      },
      "execution_count": 56,
      "outputs": []
    },
    {
      "cell_type": "code",
      "source": [],
      "metadata": {
        "id": "_rLkcbkfO0pr"
      },
      "execution_count": null,
      "outputs": []
    }
  ]
}