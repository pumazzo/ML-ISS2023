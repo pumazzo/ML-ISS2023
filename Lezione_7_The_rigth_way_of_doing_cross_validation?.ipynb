{
  "nbformat": 4,
  "nbformat_minor": 0,
  "metadata": {
    "colab": {
      "provenance": [],
      "authorship_tag": "ABX9TyPLQD0oOv1gK9APb0lkZEO0",
      "include_colab_link": true
    },
    "kernelspec": {
      "name": "python3",
      "display_name": "Python 3"
    },
    "language_info": {
      "name": "python"
    }
  },
  "cells": [
    {
      "cell_type": "markdown",
      "metadata": {
        "id": "view-in-github",
        "colab_type": "text"
      },
      "source": [
        "<a href=\"https://colab.research.google.com/github/pumazzo/ML-ISS2023/blob/main/Lezione_7_The_rigth_way_of_doing_cross_validation%3F.ipynb\" target=\"_parent\"><img src=\"https://colab.research.google.com/assets/colab-badge.svg\" alt=\"Open In Colab\"/></a>"
      ]
    },
    {
      "cell_type": "code",
      "execution_count": null,
      "metadata": {
        "id": "P8eDkWJVeoHH"
      },
      "outputs": [],
      "source": [
        "\n",
        "\n",
        "import numpy as np # linear algebra\n",
        "import pandas as pd # data processing, CSV file I/O (e.g. pd.read_csv)\n",
        "from pandas import DataFrame\n",
        "import matplotlib.pyplot as plt\n",
        "\n"
      ]
    },
    {
      "cell_type": "markdown",
      "source": [
        "# A lesson from Hastie et al. , The wrong way of doing cross validation\n",
        "\n",
        "Consider a classification problem with a large number of predictors, as may\n",
        "arise, for example, in genomic or proteomic applications. A typical strategy\n",
        "for analysis might be as follows:\n",
        "1. Screen the predictors: find a subset of “good” predictors that show\n",
        "fairly strong (univariate) correlation with the class labels\n",
        "2. Using just this subset of predictors, build a multivariate classifier.\n",
        "3. Use cross-validation to estimate the unknown tuning parameters and\n",
        "to estimate the prediction error of the final model.\n",
        "\n",
        "Is this a correct application of cross-validation? Consider a scenario with\n",
        "N = 50 samples in two equal-sized classes, and p = 5000 quantitative\n",
        "predictors (standard Gaussian) that are independent of the class labels.\n",
        "***Since they ARE independent, The true (test) error rate of any classifier is 50%. ***\n",
        "\n",
        "We carried out the above recipe:\n",
        "\n",
        "***Feaure selection***\n",
        "choosing in step (1) the 100 predictors having highest correlation with the class labels.\n",
        "\n",
        "***Train the classifier***\n",
        "\n",
        "using a 1-nearest neighbor classifier, based on just these 100 predictors, in step (2).\n",
        "\n",
        "Over 50 simulations from this setting, the average CV error rate was 3%. This is far lower than the true\n",
        "error rate of 50%.\n",
        "\n",
        "We will repeat this experience with more classifiers and you will invert the training and feature selection step to recover the rigth error rate."
      ],
      "metadata": {
        "id": "9v7FJ6X7kAot"
      }
    },
    {
      "cell_type": "code",
      "source": [
        "N = 100 # events\n",
        "P = 5000 # observable: gene expression, radiomincs features, columns in a dataset\n",
        "\n",
        "n = 10 # Best features to keep after feature selection"
      ],
      "metadata": {
        "id": "xlNlvglXj_0M"
      },
      "execution_count": null,
      "outputs": []
    },
    {
      "cell_type": "code",
      "source": [
        "np.random.seed(123)\n",
        "X = np.random.randn(N,P)# data: just random gaussians\n",
        "y = np.concatenate([np.zeros(int(N/2)),np.ones(int(N/2))]) # labels do not depends on data, they are random\n",
        "print(\"data shape : \",X.shape)\n",
        "print(\"labels shape : \", y.shape)"
      ],
      "metadata": {
        "colab": {
          "base_uri": "https://localhost:8080/"
        },
        "id": "Zv3FnPXcv-kC",
        "outputId": "d507df50-0e9d-4893-b3a3-3440de3101a6"
      },
      "execution_count": null,
      "outputs": [
        {
          "output_type": "stream",
          "name": "stdout",
          "text": [
            "data shape :  (100, 5000)\n",
            "labels shape :  (100,)\n"
          ]
        }
      ]
    },
    {
      "cell_type": "markdown",
      "source": [
        "# Univariate feature selection:\n",
        " When the number of variables in largen than the number of the datapoints (P >> N), it is better to perform a reduction of the dataset variable.\n",
        "\n",
        "\n",
        " This step of the pipeline is called the \"feature selection\". There are many ways of performing this part of the analisi. The aim is to reduce the columns of the dataset while keeping only the more descriptive variable.\n",
        "\n",
        " In our dummy dataset we will select the variables that are better correlated with the labels. Since we are using gaussian data and binary classes the best way to do it is using a [Point-Biserial Correlation](https://en.wikipedia.org/wiki/Point-biserial_correlation_coefficient).\n",
        " This measure is similar to Pearson correlation.\n",
        "\n",
        " For each variable, we will test if we can separate class 0 from class 1."
      ],
      "metadata": {
        "id": "VqU-qM2zwyFt"
      }
    },
    {
      "cell_type": "code",
      "source": [
        "from scipy import stats\n",
        "\n",
        "corr = np.zeros(P)\n",
        "anova = np.zeros(P)\n",
        "ttest = np.zeros(P)\n",
        "\n",
        "for p in range(P):# for each variable\n",
        "  # select the two classes\n",
        "  X_p = X[:,p]\n",
        "  class_0 = X_p[y==0]\n",
        "  class_1 = X_p[y==1]\n",
        "\n",
        "  # apply the correlation measure on the two distributions\n",
        "  corr[p] , _ = stats.pointbiserialr(y, X_p)\n",
        "  t_statistic, ttest[p] = stats.ttest_ind(class_0, class_1)\n",
        "  f_statistic, anova[p] = stats.f_oneway(class_0,class_1)"
      ],
      "metadata": {
        "id": "ZmO2hkZYwf-a"
      },
      "execution_count": null,
      "outputs": []
    },
    {
      "cell_type": "code",
      "source": [
        "plt.figure()\n",
        "_=plt.hist(anova,100,density=True)\n",
        "plt.xlabel(\"correlation\")\n",
        "plt.ylabel(\"probability\")"
      ],
      "metadata": {
        "colab": {
          "base_uri": "https://localhost:8080/",
          "height": 467
        },
        "id": "4-mQRtJAznOz",
        "outputId": "1f990fdf-f768-4a3b-a83a-9297bcdfd88f"
      },
      "execution_count": null,
      "outputs": [
        {
          "output_type": "execute_result",
          "data": {
            "text/plain": [
              "Text(0, 0.5, 'probability')"
            ]
          },
          "metadata": {},
          "execution_count": 5
        },
        {
          "output_type": "display_data",
          "data": {
            "text/plain": [
              "<Figure size 640x480 with 1 Axes>"
            ],
            "image/png": "[encoded data removed]"
          },
          "metadata": {}
        }
      ]
    },
    {
      "cell_type": "code",
      "source": [
        "univariate_selection = \"TTEST\" # ANOVA # PEARSON\n",
        "\n",
        "if univariate_selection == \"PEARSON\":\n",
        "  feature_to_keep = np.argsort(np.abs(corr))[-n:]\n",
        "elif univariate_selection == \"TTEST\":\n",
        "  feature_to_keep = np.argsort(ttest)[:n]\n",
        "elif univariate_selection == \"ANOVA\":\n",
        "  feature_to_keep = np.argsort(anova)[:n]"
      ],
      "metadata": {
        "id": "5lxU2-6Ozt2H"
      },
      "execution_count": null,
      "outputs": []
    },
    {
      "cell_type": "code",
      "source": [
        "np.sort(ttest)"
      ],
      "metadata": {
        "colab": {
          "base_uri": "https://localhost:8080/"
        },
        "id": "AdphoelFXy3Z",
        "outputId": "9a875c3a-ede6-4355-9b27-0809d0236147"
      },
      "execution_count": null,
      "outputs": [
        {
          "output_type": "execute_result",
          "data": {
            "text/plain": [
              "array([1.97152760e-04, 3.52670539e-04, 5.43985978e-04, ...,\n",
              "       9.99327212e-01, 9.99642189e-01, 9.99841760e-01])"
            ]
          },
          "metadata": {},
          "execution_count": 7
        }
      ]
    },
    {
      "cell_type": "code",
      "source": [
        "bf = feature_to_keep[1]\n",
        "plt.figure()\n",
        "_=plt.hist(X[y==0,bf],20,alpha = 0.3,)\n",
        "_=plt.hist(X[y==1,bf],20)\n",
        "plt.title"
      ],
      "metadata": {
        "colab": {
          "base_uri": "https://localhost:8080/",
          "height": 448
        },
        "id": "IvDHodo60uTS",
        "outputId": "0ba04bd4-7012-4507-c7cd-9ce52d6b8880"
      },
      "execution_count": null,
      "outputs": [
        {
          "output_type": "execute_result",
          "data": {
            "text/plain": [
              "<function matplotlib.pyplot.title(label, fontdict=None, loc=None, pad=None, *, y=None, **kwargs)>"
            ]
          },
          "metadata": {},
          "execution_count": 8
        },
        {
          "output_type": "display_data",
          "data": {
            "text/plain": [
              "<Figure size 640x480 with 1 Axes>"
            ],
            "image/png": "[encoded data removed]"
          },
          "metadata": {}
        }
      ]
    },
    {
      "cell_type": "code",
      "source": [
        "X_cut = X[:,feature_to_keep]\n",
        "\n",
        "from sklearn.model_selection import KFold\n",
        "from sklearn.linear_model import LogisticRegression\n",
        "from sklearn.neighbors import KNeighborsClassifier\n",
        "\n",
        "\n",
        "kf = KFold(n_splits=5, random_state=42, shuffle=True)\n",
        "\n",
        "for i, (train_index, test_index) in enumerate(kf.split(X_cut)):\n",
        "  print(f\"Fold {i}:\")\n",
        "  X_train = X_cut[train_index]\n",
        "  y_train = y[train_index]\n",
        "  X_test = X_cut[test_index]\n",
        "  y_test = y[test_index]\n",
        "\n",
        "  KNN = KNeighborsClassifier(n_neighbors=1)\n",
        "  LR = LogisticRegression()\n",
        "\n",
        "  LR.fit(X_train, y_train)\n",
        "  KNN.fit(X_train, y_train)\n",
        "  LR_score = LR.score(X_test,y_test)\n",
        "  KNN_score = KNN.score(X_test,y_test)\n",
        "\n",
        "  print(\"accuracy LR : \", LR_score)\n",
        "  print(\"accuracy KNN : \", KNN_score)\n"
      ],
      "metadata": {
        "colab": {
          "base_uri": "https://localhost:8080/"
        },
        "id": "0Z80wQIT0vfc",
        "outputId": "23986a63-f1be-485b-85e7-831f60d411ef"
      },
      "execution_count": null,
      "outputs": [
        {
          "output_type": "stream",
          "name": "stdout",
          "text": [
            "Fold 0:\n",
            "accuracy LR :  0.7\n",
            "accuracy KNN :  0.55\n",
            "Fold 1:\n",
            "accuracy LR :  0.9\n",
            "accuracy KNN :  0.65\n",
            "Fold 2:\n",
            "accuracy LR :  0.7\n",
            "accuracy KNN :  0.6\n",
            "Fold 3:\n",
            "accuracy LR :  0.65\n",
            "accuracy KNN :  0.6\n",
            "Fold 4:\n",
            "accuracy LR :  0.8\n",
            "accuracy KNN :  0.75\n"
          ]
        }
      ]
    },
    {
      "cell_type": "code",
      "source": [],
      "metadata": {
        "id": "4v4PhgvRN6r_"
      },
      "execution_count": null,
      "outputs": []
    }
  ]
}